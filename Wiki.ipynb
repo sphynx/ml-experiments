{
 "cells": [
  {
   "cell_type": "code",
   "execution_count": 1,
   "metadata": {},
   "outputs": [],
   "source": [
    "from os.path import expanduser\n",
    "from urllib import request, parse, error\n",
    "import json\n",
    "import numpy as np\n",
    "import os\n",
    "import shutil\n",
    "import spacy\n",
    "import sqlite3"
   ]
  },
  {
   "cell_type": "code",
   "execution_count": 2,
   "metadata": {},
   "outputs": [],
   "source": [
    "CHROME_HISTORY_FILE = expanduser('~/Library/Application Support/Google/Chrome/Default/History')\n",
    "WORK_DIR = expanduser('~/Data/')\n",
    "CACHE_DIR = os.path.join(WORK_DIR, \"Cache\")\n",
    "HISTORY = os.path.join(WORK_DIR, 'history.sqlite')\n",
    "\n",
    "def init():\n",
    "    if not os.path.exists(CACHE_DIR):\n",
    "        os.makedirs(CACHE_DIR)\n",
    "    shutil.copyfile(CHROME_HISTORY_FILE, HISTORY)\n",
    "    \n",
    "init()"
   ]
  },
  {
   "cell_type": "code",
   "execution_count": 3,
   "metadata": {},
   "outputs": [
    {
     "data": {
      "text/plain": [
       "{'2016–17 Northern Rakhine State clashes',\n",
       " '2017 WTA Finals – Singles',\n",
       " 'A Visit From the Goon Squad',\n",
       " 'A Visit from the Goon Squad',\n",
       " 'ATP Rankings',\n",
       " 'Agadez',\n",
       " 'Agatha Christie',\n",
       " \"All the King's Men\",\n",
       " 'Ambrosian chant',\n",
       " 'Anacrusis',\n",
       " 'Ann Miller',\n",
       " 'Archibald Selwyn',\n",
       " 'Association rule learning',\n",
       " 'Atlantic Canada',\n",
       " 'Authorship of the Bible',\n",
       " 'Bar (music)',\n",
       " 'Basis (linear algebra)',\n",
       " 'Bassoon',\n",
       " 'Berkovich space',\n",
       " 'Bible',\n",
       " 'Big Shot (ride)',\n",
       " 'Bivouac shelter',\n",
       " 'Bix Beiderbecke',\n",
       " 'Bloomberg Terminal',\n",
       " 'Blurb',\n",
       " 'Bramble',\n",
       " 'Brandenburg Concertos',\n",
       " 'Brass instrument',\n",
       " 'Bra–ket notation',\n",
       " 'Brogue shoe',\n",
       " 'Cantonese',\n",
       " 'Cantonese Yale',\n",
       " 'Cantonese phonology',\n",
       " 'Cecil Roth',\n",
       " 'Chromatic scale',\n",
       " 'Chukchi language',\n",
       " 'Chum (tent)',\n",
       " 'Circle of fifths',\n",
       " 'Collatz conjecture',\n",
       " 'Concerto for Orchestra (Bartók)',\n",
       " 'Congress of Aboriginal Peoples',\n",
       " 'Cornet',\n",
       " 'Crataegus',\n",
       " 'Cross product',\n",
       " 'Cutting contest',\n",
       " 'Degenerate music',\n",
       " 'Delray Beach International Tennis Championships',\n",
       " 'Delray Beach Open',\n",
       " 'Determinant',\n",
       " 'Dheerasankarabharanam',\n",
       " 'Diatonic scale',\n",
       " 'Distribution',\n",
       " 'Distribution (mathematics)',\n",
       " 'Divisor function',\n",
       " 'Dixieland',\n",
       " 'Dosso, Niger',\n",
       " 'Dot product',\n",
       " \"Dragon's Teeth (novel)\",\n",
       " 'Eibingen Abbey',\n",
       " 'Ejective consonant',\n",
       " 'Eliezer Ben-Yehuda',\n",
       " 'Ellipse',\n",
       " 'Ellipsoid',\n",
       " 'Enzyme kinetics',\n",
       " 'Ernests Gulbis',\n",
       " 'Esperanto Museum and Collection of Planned Languages',\n",
       " 'Esperanto symbols',\n",
       " 'Family of sets',\n",
       " 'Fieldway (ward)',\n",
       " 'Fixed stars',\n",
       " 'Flying disc',\n",
       " 'Frisbee',\n",
       " 'Frisby',\n",
       " 'G-force',\n",
       " 'Gallery of country coats of arms',\n",
       " 'Glottolog',\n",
       " 'Goahti',\n",
       " 'Goldwyn Pictures',\n",
       " 'Goodyear welt',\n",
       " 'Grammatical tense',\n",
       " 'Gram–Schmidt process',\n",
       " 'Grand Prix (Cannes Film Festival)',\n",
       " 'Gregorian chant',\n",
       " 'Halldór Laxness',\n",
       " 'Hans Rosbaud',\n",
       " 'Hawthorn',\n",
       " 'Heebie Jeebies (composition)',\n",
       " 'Heebie-jeebies (idiom)',\n",
       " 'Hildegard of Bingen',\n",
       " 'Hugs and kisses',\n",
       " 'Hypergraph',\n",
       " 'I Ching',\n",
       " 'Inner product space',\n",
       " 'Interlinear gloss',\n",
       " 'International Tchaikovsky Competition',\n",
       " 'International Tchaikovsky Competition 2011 - Piano',\n",
       " 'International Tchaikovsky Competition 2011 – Piano',\n",
       " 'Interval (music)',\n",
       " 'Isle of Man',\n",
       " 'Isle of Man passport',\n",
       " 'Jazz',\n",
       " 'John McWhorter',\n",
       " 'John Napier',\n",
       " 'Johnny Dodds',\n",
       " 'Jorn Barger',\n",
       " 'Juan Martín del Potro',\n",
       " 'Julia set',\n",
       " 'Kevin Anderson (tennis)',\n",
       " 'Kingdom of the Isles',\n",
       " 'Kolmogorov complexity',\n",
       " 'Labrador',\n",
       " 'Labrador Peninsula',\n",
       " 'Language-game (philosophy)',\n",
       " 'Languages of the Caucasus',\n",
       " 'Laura Harring',\n",
       " 'Linear independence',\n",
       " 'Linearly independent',\n",
       " 'Lingua Ignota',\n",
       " 'List of GIS data sources',\n",
       " 'List of Stradivarius instruments',\n",
       " 'List of compositions by Sergei Rachmaninoff',\n",
       " 'Lone Ranger',\n",
       " 'Louis Armstrong',\n",
       " 'Louis Armstrong and His Hot Five',\n",
       " 'Lucas Geniušas',\n",
       " 'Lukas Geniušas',\n",
       " 'MacBook Pro',\n",
       " 'Magnitude (vector)',\n",
       " 'Main Page',\n",
       " 'Major scale',\n",
       " 'Mandelbrot set',\n",
       " 'Metro-Goldwyn-Mayer',\n",
       " 'Middle Chinese',\n",
       " 'Mind map',\n",
       " 'Mode (music)',\n",
       " 'Mozambique',\n",
       " 'Mulholland Drive',\n",
       " 'Mulholland Drive (film)',\n",
       " 'Music of Chicago',\n",
       " 'Musical note',\n",
       " 'Musical scale',\n",
       " 'National Museum of Language',\n",
       " 'Nepali tea',\n",
       " 'Newfoundland and Labrador',\n",
       " 'Newton fractal',\n",
       " 'Nicolás Almagro',\n",
       " 'Niger',\n",
       " 'Nigeria',\n",
       " 'Nikolai Krylenko',\n",
       " 'Nikolay Davydenko',\n",
       " 'Norm (mathematics)',\n",
       " 'Norn language',\n",
       " 'North Caucasian languages',\n",
       " 'NunatuKavut',\n",
       " 'NunatuKavut people',\n",
       " 'Nunatukavut',\n",
       " 'OS X Mavericks',\n",
       " 'Of Mice and Men',\n",
       " 'Orkneyinga Saga',\n",
       " 'Orkneyinga saga',\n",
       " 'Orthogonal basis',\n",
       " 'Orthonormal basis',\n",
       " 'Oxford shoe',\n",
       " \"Palme d'Or\",\n",
       " 'Pencil',\n",
       " 'Pentatonic scale',\n",
       " 'Percent-encoding',\n",
       " 'Phrygian mode',\n",
       " 'Prehistoric Shetland',\n",
       " 'Priority queue',\n",
       " 'Provenance',\n",
       " 'Pulitzer Prize for Fiction',\n",
       " 'Ramon Llull',\n",
       " 'Rate of return',\n",
       " 'Rational number',\n",
       " 'Reaction rate',\n",
       " 'Reciprocal distribution',\n",
       " 'Reuters 3000 Xtra',\n",
       " 'S. L. Wong (phonetic symbols)',\n",
       " 'S. L. Wong (romanisation)',\n",
       " 'Scale (music)',\n",
       " 'Scarborough Fair (ballad)',\n",
       " 'Scat singing',\n",
       " 'Scots language',\n",
       " 'Sergei Rachmaninoff',\n",
       " 'Shetland',\n",
       " 'Sign sequence',\n",
       " \"Singin' the Blues (1920 song)\",\n",
       " 'Six moments musicaux (Rachmaninoff)',\n",
       " 'Specificity constant',\n",
       " 'Spotting (climbing)',\n",
       " 'Star',\n",
       " 'Stepan Bandera',\n",
       " 'Stockholm Open',\n",
       " 'Stride (music)',\n",
       " 'Subject (grammar)',\n",
       " 'Symphony No. 4 (Brahms)',\n",
       " 'Taoism',\n",
       " 'Taoism in Japan',\n",
       " 'Tf–idf',\n",
       " 'Thai alphabet',\n",
       " \"The Bee's Knees\",\n",
       " \"The Bee's Knees (disambiguation)\",\n",
       " 'The Goldfinch (novel)',\n",
       " 'The Good Earth',\n",
       " 'To Live (1994 film)',\n",
       " 'Toccata (Prokofiev)',\n",
       " 'Transposition (music)',\n",
       " 'Trombone',\n",
       " 'Tsez language',\n",
       " 'Turnover number',\n",
       " 'Ultimate (sport)',\n",
       " 'Uvular consonant',\n",
       " 'Vanoise',\n",
       " 'Vector space',\n",
       " 'Veronika Eberle',\n",
       " 'Viktor Ullmann',\n",
       " 'Visual Basic',\n",
       " 'William Tell Overture',\n",
       " 'Wind instrument',\n",
       " 'Word2vec',\n",
       " 'World Federation of International Music Competitions',\n",
       " 'World Geodetic System',\n",
       " 'World Geodetic System 1984',\n",
       " 'Yale romanization of Cantonese',\n",
       " 'Yaranga'}"
      ]
     },
     "execution_count": 3,
     "metadata": {},
     "output_type": "execute_result"
    }
   ],
   "source": [
    "def visited_wiki_pages():\n",
    "    conn = sqlite3.connect(HISTORY)\n",
    "    cur = conn.cursor()\n",
    "    cur.execute(\"select url from urls\")\n",
    "    urls = cur.fetchall()\n",
    "\n",
    "    def is_wiki_page(url):\n",
    "        u = parse.urlsplit(url)\n",
    "        return \"en.wikipedia.org\" in u.netloc and \"/wiki/\" in u.path and not \":\" in parse.unquote(u.path)\n",
    "\n",
    "    def page_name(str):\n",
    "        path = parse.urlparse(str).path\n",
    "        return parse.unquote(path).replace(\"/wiki/\", \"\").replace(\"_\", \" \")\n",
    "\n",
    "    pages = set(page_name(u[0]) for u in urls if is_wiki_page(u[0]))\n",
    "    return pages\n",
    "\n",
    "pages = visited_wiki_pages()\n",
    "pages\n"
   ]
  },
  {
   "cell_type": "code",
   "execution_count": 4,
   "metadata": {},
   "outputs": [],
   "source": [
    "# nlp = spacy.load('en_core_web_sm')\n",
    "nlp = spacy.load('en_vectors_web_lg')"
   ]
  },
  {
   "cell_type": "code",
   "execution_count": 5,
   "metadata": {},
   "outputs": [],
   "source": [
    "def prepare_wiki_url(title, sentences):\n",
    "    \"\"\" Builds query url for wikipedia extracts. For API details please see:\n",
    "    https://en.wikipedia.org/w/api.php?action=help&modules=query%2Bextracts\n",
    "    \"\"\"\n",
    "    \n",
    "    WIKI_API = 'https://en.wikipedia.org/w/api.php'\n",
    "\n",
    "    data = {}\n",
    "    data['action'] = 'query'\n",
    "    data['prop'] = 'extracts|categories'\n",
    "    data['titles'] = title\n",
    "    data['exsentences'] = sentences\n",
    "    data['explaintext'] = True\n",
    "    data['exintro'] = True\n",
    "    data['redirects'] = True\n",
    "    data['format'] = 'json'  \n",
    "    data['exlimit'] = 20\n",
    "    data['clcategories'] = 'Category:Disambiguation pages'\n",
    "    \n",
    "    url_values = parse.urlencode(data)\n",
    "    full_url = WIKI_API + '?' + url_values\n",
    "    return full_url"
   ]
  },
  {
   "cell_type": "code",
   "execution_count": 6,
   "metadata": {},
   "outputs": [
    {
     "data": {
      "text/plain": [
       "'https://en.wikipedia.org/w/api.php?action=query&prop=extracts%7Ccategories&titles=Kurt+Cobain&exsentences=5&explaintext=True&exintro=True&redirects=True&format=json&exlimit=20&clcategories=Category%3ADisambiguation+pages'"
      ]
     },
     "execution_count": 6,
     "metadata": {},
     "output_type": "execute_result"
    }
   ],
   "source": [
    "url = prepare_wiki_url('Kurt Cobain', 5)\n",
    "url"
   ]
  },
  {
   "cell_type": "code",
   "execution_count": 7,
   "metadata": {},
   "outputs": [],
   "source": [
    "def request_wiki_info(url):\n",
    "    \"\"\"Downloads an extract in JSON format from a wikipedia page with given title.\n",
    "    We can control number of sentences returned (up to 10).\n",
    "    Returns string.\n",
    "    \"\"\"\n",
    "    req = request.Request(url)\n",
    " \n",
    "    try:\n",
    "        response = request.urlopen(req)\n",
    "    except error.URLError as e:\n",
    "        if hasattr(e, 'reason'):\n",
    "            print('We failed to reach a server.')\n",
    "            print('Reason: ', e.reason)\n",
    "        elif hasattr(e, 'code'):\n",
    "            print(\"The server couldn't fulfill the request.\")\n",
    "            print('Error code: ', e.code)\n",
    "    else:\n",
    "        data = response.read()\n",
    "        return data"
   ]
  },
  {
   "cell_type": "code",
   "execution_count": 8,
   "metadata": {},
   "outputs": [
    {
     "data": {
      "text/plain": [
       "b'{\"batchcomplete\":\"\",\"query\":{\"pages\":{\"16707\":{\"pageid\":16707,\"ns\":0,\"title\":\"Kurt Cobain\",\"extract\":\"Kurt Donald Cobain (February 20, 1967 \\\\u2013 April 5, 1994) was an American singer, musician, and songwriter. Born in Aberdeen, Washington, Cobain formed the band Nirvana with Krist Novoselic and Aaron Burckhard in 1987 and established it as part of the Seattle music scene which later became known as grunge. Nirvana\\'s debut album Bleach was released on the independent record label Sub Pop in 1989.\\\\nAfter signing with major label DGC Records, Nirvana found breakthrough success with \\\\\"Smells Like Teen Spirit\\\\\" from their second album Nevermind (1991). Following the success of Nevermind, Nirvana was labeled \\\\\"the flagship band\\\\\" of Generation X, and Cobain hailed as \\\\\"the spokesman of a generation\\\\\".\"}}}}'"
      ]
     },
     "execution_count": 8,
     "metadata": {},
     "output_type": "execute_result"
    }
   ],
   "source": [
    "resp = request_wiki_info(url)\n",
    "resp"
   ]
  },
  {
   "cell_type": "code",
   "execution_count": 9,
   "metadata": {},
   "outputs": [],
   "source": [
    "def parse_wiki_info(resp):    \n",
    "    js = json.loads(resp)\n",
    "    for v in js['query']['pages'].values():\n",
    "        if 'missing' in v or not 'extract' in v:\n",
    "            print('Extract', title, 'is missing')\n",
    "            return None\n",
    "        else:\n",
    "            extract = v['extract']\n",
    "            is_disambiguation = 'categories' in v\n",
    "            break\n",
    "    return {'extract': extract, 'is_disambiguation': is_disambiguation}"
   ]
  },
  {
   "cell_type": "code",
   "execution_count": 10,
   "metadata": {},
   "outputs": [
    {
     "data": {
      "text/plain": [
       "{'extract': 'Kurt Donald Cobain (February 20, 1967 – April 5, 1994) was an American singer, musician, and songwriter. Born in Aberdeen, Washington, Cobain formed the band Nirvana with Krist Novoselic and Aaron Burckhard in 1987 and established it as part of the Seattle music scene which later became known as grunge. Nirvana\\'s debut album Bleach was released on the independent record label Sub Pop in 1989.\\nAfter signing with major label DGC Records, Nirvana found breakthrough success with \"Smells Like Teen Spirit\" from their second album Nevermind (1991). Following the success of Nevermind, Nirvana was labeled \"the flagship band\" of Generation X, and Cobain hailed as \"the spokesman of a generation\".',\n",
       " 'is_disambiguation': False}"
      ]
     },
     "execution_count": 10,
     "metadata": {},
     "output_type": "execute_result"
    }
   ],
   "source": [
    "info = parse_wiki_info(resp)\n",
    "info"
   ]
  },
  {
   "cell_type": "code",
   "execution_count": 11,
   "metadata": {},
   "outputs": [
    {
     "data": {
      "text/plain": [
       "Kurt Donald Cobain (February 20, 1967 – April 5, 1994) was an American singer, musician, and songwriter. Born in Aberdeen, Washington, Cobain formed the band Nirvana with Krist Novoselic and Aaron Burckhard in 1987 and established it as part of the Seattle music scene which later became known as grunge. Nirvana's debut album Bleach was released on the independent record label Sub Pop in 1989.\n",
       "After signing with major label DGC Records, Nirvana found breakthrough success with \"Smells Like Teen Spirit\" from their second album Nevermind (1991). Following the success of Nevermind, Nirvana was labeled \"the flagship band\" of Generation X, and Cobain hailed as \"the spokesman of a generation\"."
      ]
     },
     "execution_count": 11,
     "metadata": {},
     "output_type": "execute_result"
    }
   ],
   "source": [
    "kurt_cobain = nlp(info['extract'])\n",
    "kurt_cobain"
   ]
  },
  {
   "cell_type": "code",
   "execution_count": 12,
   "metadata": {},
   "outputs": [],
   "source": [
    "def from_cache(title):\n",
    "    wiki_path = to_file_name(title, 'wiki')\n",
    "    if os.path.exists(wiki_path):\n",
    "        with open(wiki_path, 'r') as f:\n",
    "            dump = json.loads(f.read())\n",
    "            return dump\n",
    "\n",
    "def save_to_cache(title, wiki_info):\n",
    "    wiki_path = to_file_name(title, 'wiki')\n",
    "    with open(wiki_path, 'w') as f:\n",
    "        dump = json.dumps(wiki_info)\n",
    "        f.write(dump)\n",
    "\n",
    "def to_file_name(title, ext):\n",
    "    base = \"\".join(c.replace(\" \", \"_\") \n",
    "                   for c in title \n",
    "                   if c.isalnum() or c in {\"_\", \"-\", \" \", \"(\", \")\"})\n",
    "    return os.path.join(CACHE_DIR, base + \".\" + ext)"
   ]
  },
  {
   "cell_type": "code",
   "execution_count": 24,
   "metadata": {},
   "outputs": [],
   "source": [
    "def analyze(title, sentences=5):\n",
    "    dump = from_cache(title)\n",
    "    if dump is None:\n",
    "        url = prepare_wiki_url(title, sentences)\n",
    "        resp = request_wiki_info(url)\n",
    "        info = parse_wiki_info(resp)\n",
    "        save_to_cache(title, info)\n",
    "        if info['is_disambiguation']:\n",
    "            return None\n",
    "        else:\n",
    "            doc = nlp(info['extract'])\n",
    "            return title, doc\n",
    "    elif dump['is_disambiguation']:\n",
    "        return None\n",
    "    else:\n",
    "        return title, nlp(dump['extract'])"
   ]
  },
  {
   "cell_type": "code",
   "execution_count": 25,
   "metadata": {},
   "outputs": [
    {
     "name": "stdout",
     "output_type": "stream",
     "text": [
      "0.966928213746\n",
      "0.930585500224\n"
     ]
    }
   ],
   "source": [
    "krist_novoselic = analyze('Krist Novoselic')[1]\n",
    "lady_gaga = analyze('Lady Gaga')[1]\n",
    "\n",
    "print(kurt_cobain.similarity(krist_novoselic))\n",
    "print(kurt_cobain.similarity(lady_gaga))"
   ]
  },
  {
   "cell_type": "code",
   "execution_count": 26,
   "metadata": {},
   "outputs": [],
   "source": [
    "def similarity_matrix(pages):\n",
    "    infos  = [i for i in map(analyze, pages) if i is not None]\n",
    "    docs   = [i[1] for i in infos]\n",
    "    titles = [i[0] for i in infos]\n",
    "    \n",
    "    def sim_f(i, j):\n",
    "        return docs[i].similarity(docs[j])\n",
    "    \n",
    "    n = len(infos)\n",
    "    return titles, np.fromfunction(np.vectorize(sim_f), (n, n), dtype=int)"
   ]
  },
  {
   "cell_type": "code",
   "execution_count": 27,
   "metadata": {},
   "outputs": [
    {
     "data": {
      "text/plain": [
       "array([[ 0.99999995,  0.85268153,  0.87218339, ...,  0.93247133,\n",
       "         0.77692595,  0.9003382 ],\n",
       "       [ 0.85268153,  0.99999993,  0.8297727 , ...,  0.90466518,\n",
       "         0.88846709,  0.87936612],\n",
       "       [ 0.87218339,  0.8297727 ,  0.99999986, ...,  0.84394398,\n",
       "         0.82081569,  0.87891169],\n",
       "       ..., \n",
       "       [ 0.93247133,  0.90466518,  0.84394398, ...,  1.00000011,\n",
       "         0.82817086,  0.90408085],\n",
       "       [ 0.77692595,  0.88846709,  0.82081569, ...,  0.82817086,\n",
       "         0.99999993,  0.82093003],\n",
       "       [ 0.9003382 ,  0.87936612,  0.87891169, ...,  0.90408085,\n",
       "         0.82093003,  0.99999999]])"
      ]
     },
     "execution_count": 27,
     "metadata": {},
     "output_type": "execute_result"
    }
   ],
   "source": [
    "good_titles, matrix = similarity_matrix(list(pages))\n",
    "matrix"
   ]
  },
  {
   "cell_type": "code",
   "execution_count": 28,
   "metadata": {},
   "outputs": [
    {
     "data": {
      "text/plain": [
       "(220, 220)"
      ]
     },
     "execution_count": 28,
     "metadata": {},
     "output_type": "execute_result"
    }
   ],
   "source": [
    "matrix.shape"
   ]
  },
  {
   "cell_type": "code",
   "execution_count": 29,
   "metadata": {},
   "outputs": [
    {
     "data": {
      "text/plain": [
       "AffinityPropagation(affinity='precomputed', convergence_iter=15, copy=True,\n",
       "          damping=0.8, max_iter=200, preference=None, verbose=False)"
      ]
     },
     "execution_count": 29,
     "metadata": {},
     "output_type": "execute_result"
    }
   ],
   "source": [
    "import sklearn.cluster\n",
    "\n",
    "affprop = sklearn.cluster.AffinityPropagation(affinity=\"precomputed\", damping=0.8)\n",
    "affprop.fit(matrix)"
   ]
  },
  {
   "cell_type": "code",
   "execution_count": 30,
   "metadata": {},
   "outputs": [
    {
     "data": {
      "text/plain": [
       "array([  8,   9,  10,  16,  20,  21,  28,  45,  48,  53,  60,  64,  66,\n",
       "        78,  97,  98, 104, 111, 115, 125, 141, 187, 207])"
      ]
     },
     "execution_count": 30,
     "metadata": {},
     "output_type": "execute_result"
    }
   ],
   "source": [
    "affprop.cluster_centers_indices_"
   ]
  },
  {
   "cell_type": "code",
   "execution_count": 31,
   "metadata": {},
   "outputs": [
    {
     "data": {
      "text/plain": [
       "23"
      ]
     },
     "execution_count": 31,
     "metadata": {},
     "output_type": "execute_result"
    }
   ],
   "source": [
    "len(affprop.cluster_centers_indices_)"
   ]
  },
  {
   "cell_type": "code",
   "execution_count": 36,
   "metadata": {},
   "outputs": [
    {
     "name": "stdout",
     "output_type": "stream",
     "text": [
      " - [Kingdom of the Isles]: Fieldway (ward), Gallery of country coats of arms, Isle of Man, Isle of Man passport, Kingdom of the Isles, Norn language, Orkneyinga Saga, Orkneyinga saga, Prehistoric Shetland, Scots language, Shetland\n",
      " - [Viktor Ullmann]: Viktor Ullmann\n",
      " - [List of Stradivarius instruments]: List of Stradivarius instruments\n",
      " - [Cantonese Yale]: Cantonese Yale, Cantonese phonology, Ejective consonant, S. L. Wong (phonetic symbols), S. L. Wong (romanisation), Uvular consonant, Yale romanization of Cantonese\n",
      " - [Norm (mathematics)]: Basis (linear algebra), Berkovich space, Bra–ket notation, Cross product, Distribution (mathematics), Divisor function, Dot product, Ellipse, Ellipsoid, G-force, Gram–Schmidt process, Inner product space, Linear independence, Linearly independent, Magnitude (vector), Norm (mathematics), Orthogonal basis, Orthonormal basis, Rational number, Reciprocal distribution, Sign sequence, Vector space\n",
      " - [Lucas Geniušas]: Archibald Selwyn, Cecil Roth, Hans Rosbaud, International Tchaikovsky Competition, International Tchaikovsky Competition 2011 - Piano, International Tchaikovsky Competition 2011 – Piano, Laura Harring, Lucas Geniušas, Lukas Geniušas, Sergei Rachmaninoff, Symphony No. 4 (Brahms)\n",
      " - [Main Page]: Main Page\n",
      " - [A Visit From the Goon Squad]: A Visit From the Goon Squad, A Visit from the Goon Squad, Blurb, Goldwyn Pictures, John McWhorter, Metro-Goldwyn-Mayer, Mulholland Drive, Mulholland Drive (film), OS X Mavericks, Of Mice and Men, Ultimate (sport)\n",
      " - [Musical note]: Anacrusis, Bar (music), Collatz conjecture, Cutting contest, Family of sets, Heebie-jeebies (idiom), Hugs and kisses, Julia set, Mind map, Musical note, Priority queue, Rate of return, Scarborough Fair (ballad), Subject (grammar), Thai alphabet\n",
      " - [Nigeria]: 2016–17 Northern Rakhine State clashes, Agadez, Atlantic Canada, Dosso, Niger, Mozambique, Niger, Nigeria\n",
      " - [Oxford shoe]: Brogue shoe, Goodyear welt, Oxford shoe\n",
      " - [Newton fractal]: Association rule learning, Determinant, Hypergraph, Mandelbrot set, Newton fractal, Specificity constant, Turnover number\n",
      " - [Bivouac shelter]: Bivouac shelter, Bramble, Goahti, Pencil, Spotting (climbing), Yaranga\n",
      " - [NunatuKavut people]: Cantonese, Chum (tent), Congress of Aboriginal Peoples, Crataegus, Labrador, Labrador Peninsula, Newfoundland and Labrador, North Caucasian languages, NunatuKavut, NunatuKavut people, Nunatukavut\n",
      " - [Musical scale]: Brass instrument, Chromatic scale, Circle of fifths, Cornet, Diatonic scale, Flying disc, Frisbee, Interval (music), Major scale, Musical scale, Pentatonic scale, Phrygian mode, Reaction rate, Scale (music), Transposition (music), Trombone, Wind instrument\n",
      " - [Bix Beiderbecke]: Ann Miller, Bassoon, Bix Beiderbecke, Brandenburg Concertos, Concerto for Orchestra (Bartók), Dixieland, Heebie Jeebies (composition), Jazz, Johnny Dodds, List of compositions by Sergei Rachmaninoff, Louis Armstrong, Louis Armstrong and His Hot Five, Music of Chicago, Scat singing, Singin' the Blues (1920 song), Six moments musicaux (Rachmaninoff), Stride (music), Toccata (Prokofiev), William Tell Overture\n",
      " - [Veronika Eberle]: Veronika Eberle\n",
      " - [Hildegard of Bingen]: Eibingen Abbey, Eliezer Ben-Yehuda, Halldór Laxness, Hildegard of Bingen, Lingua Ignota, Ramon Llull\n",
      " - [I Ching]: Ambrosian chant, Authorship of the Bible, Bible, Big Shot (ride), Dheerasankarabharanam, Esperanto symbols, Gregorian chant, I Ching, John Napier, Jorn Barger, MacBook Pro, Middle Chinese, Mode (music), Nepali tea, Star, Taoism, Taoism in Japan, To Live (1994 film), Tsez language\n",
      " - [World Geodetic System]: World Geodetic System, World Geodetic System 1984\n",
      " - [Dragon's Teeth (novel)]: Agatha Christie, All the King's Men, Dragon's Teeth (novel), Grand Prix (Cannes Film Festival), Lone Ranger, Nikolai Krylenko, Pulitzer Prize for Fiction, Stepan Bandera, The Goldfinch (novel), The Good Earth\n",
      " - [Glottolog]: Bloomberg Terminal, Chukchi language, Degenerate music, Enzyme kinetics, Esperanto Museum and Collection of Planned Languages, Fixed stars, Glottolog, Grammatical tense, Interlinear gloss, Kolmogorov complexity, Language-game (philosophy), Languages of the Caucasus, List of GIS data sources, National Museum of Language, Percent-encoding, Provenance, Reuters 3000 Xtra, Tf–idf, Visual Basic, Word2vec, World Federation of International Music Competitions\n",
      " - [Nikolay Davydenko]: 2017 WTA Finals – Singles, ATP Rankings, Delray Beach International Tennis Championships, Delray Beach Open, Ernests Gulbis, Juan Martín del Potro, Kevin Anderson (tennis), Nicolás Almagro, Nikolay Davydenko, Palme d'Or, Stockholm Open\n"
     ]
    }
   ],
   "source": [
    "ts = np.asarray(good_titles)\n",
    "\n",
    "for cluster_id in np.unique(affprop.labels_):\n",
    "    exemplar = ts[affprop.cluster_centers_indices_[cluster_id]]\n",
    "    cluster = np.unique(ts[np.nonzero(affprop.labels_ == cluster_id)])\n",
    "    cluster_str = \", \".join(cluster)\n",
    "    print(f' - [{exemplar}]: {cluster_str}')"
   ]
  },
  {
   "cell_type": "code",
   "execution_count": 37,
   "metadata": {},
   "outputs": [
    {
     "data": {
      "text/plain": [
       "TSNE(angle=0.5, early_exaggeration=12.0, init='random', learning_rate=200.0,\n",
       "   method='exact', metric='precomputed', min_grad_norm=1e-07,\n",
       "   n_components=2, n_iter=1000, n_iter_without_progress=300,\n",
       "   perplexity=30.0, random_state=42, verbose=0)"
      ]
     },
     "execution_count": 37,
     "metadata": {},
     "output_type": "execute_result"
    }
   ],
   "source": [
    "from sklearn.manifold import TSNE\n",
    "tsne = TSNE(metric=\"precomputed\", method=\"exact\",random_state=42)\n",
    "tsne.fit(abs(1 - matrix))"
   ]
  },
  {
   "cell_type": "code",
   "execution_count": 38,
   "metadata": {},
   "outputs": [
    {
     "data": {
      "text/plain": [
       "<matplotlib.collections.PathCollection at 0x10fd66dd8>"
      ]
     },
     "execution_count": 38,
     "metadata": {},
     "output_type": "execute_result"
    },
    {
     "data": {
      "image/png": "[encoded data removed]",
      "text/plain": [
       "<matplotlib.figure.Figure at 0x10f8e00f0>"
      ]
     },
     "metadata": {},
     "output_type": "display_data"
    }
   ],
   "source": [
    "%matplotlib inline\n",
    "\n",
    "import matplotlib.pyplot as plt\n",
    "\n",
    "fig, axes = plt.subplots()\n",
    "data = tsne.embedding_\n",
    "axes.scatter(data[:,0], data[:,1])"
   ]
  },
  {
   "cell_type": "code",
   "execution_count": null,
   "metadata": {},
   "outputs": [],
   "source": []
  }
 ],
 "metadata": {
  "kernelspec": {
   "display_name": "Python 3",
   "language": "python",
   "name": "python3"
  },
  "language_info": {
   "codemirror_mode": {
    "name": "ipython",
    "version": 3
   },
   "file_extension": ".py",
   "mimetype": "text/x-python",
   "name": "python",
   "nbconvert_exporter": "python",
   "pygments_lexer": "ipython3",
   "version": "3.6.1"
  },
  "toc": {
   "nav_menu": {},
   "number_sections": true,
   "sideBar": true,
   "skip_h1_title": false,
   "title_cell": "Table of Contents",
   "title_sidebar": "Contents",
   "toc_cell": false,
   "toc_position": {},
   "toc_section_display": true,
   "toc_window_display": false
  }
 },
 "nbformat": 4,
 "nbformat_minor": 2
}
